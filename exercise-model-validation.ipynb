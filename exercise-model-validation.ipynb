{
 "cells": [
  {
   "cell_type": "markdown",
   "id": "d2bd621c",
   "metadata": {
    "papermill": {
     "duration": 0.005757,
     "end_time": "2024-10-28T21:50:35.508357",
     "exception": false,
     "start_time": "2024-10-28T21:50:35.502600",
     "status": "completed"
    },
    "tags": []
   },
   "source": [
    "**This notebook is an exercise in the [Introduction to Machine Learning](https://www.kaggle.com/learn/intro-to-machine-learning) course.  You can reference the tutorial at [this link](https://www.kaggle.com/dansbecker/model-validation).**\n",
    "\n",
    "---\n"
   ]
  },
  {
   "cell_type": "markdown",
   "id": "2430b639",
   "metadata": {
    "papermill": {
     "duration": 0.004139,
     "end_time": "2024-10-28T21:50:35.517150",
     "exception": false,
     "start_time": "2024-10-28T21:50:35.513011",
     "status": "completed"
    },
    "tags": []
   },
   "source": [
    "## Recap\n",
    "You've built a model. In this exercise you will test how good your model is.\n",
    "\n",
    "Run the cell below to set up your coding environment where the previous exercise left off."
   ]
  },
  {
   "cell_type": "code",
   "execution_count": 1,
   "id": "ed9c9e5f",
   "metadata": {
    "execution": {
     "iopub.execute_input": "2024-10-28T21:50:35.527821Z",
     "iopub.status.busy": "2024-10-28T21:50:35.527387Z",
     "iopub.status.idle": "2024-10-28T21:50:38.456509Z",
     "shell.execute_reply": "2024-10-28T21:50:38.455238Z"
    },
    "papermill": {
     "duration": 2.937525,
     "end_time": "2024-10-28T21:50:38.459144",
     "exception": false,
     "start_time": "2024-10-28T21:50:35.521619",
     "status": "completed"
    },
    "tags": []
   },
   "outputs": [
    {
     "name": "stdout",
     "output_type": "stream",
     "text": [
      "First in-sample predictions: [208500. 181500. 223500. 140000. 250000.]\n",
      "Actual target values for those homes: [208500, 181500, 223500, 140000, 250000]\n",
      "Setup Complete\n"
     ]
    }
   ],
   "source": [
    "# Code you have previously used to load data\n",
    "import pandas as pd\n",
    "from sklearn.tree import DecisionTreeRegressor\n",
    "\n",
    "# Path of the file to read\n",
    "iowa_file_path = '../input/home-data-for-ml-course/train.csv'\n",
    "\n",
    "home_data = pd.read_csv(iowa_file_path)\n",
    "y = home_data.SalePrice\n",
    "feature_columns = ['LotArea', 'YearBuilt', '1stFlrSF', '2ndFlrSF', 'FullBath', 'BedroomAbvGr', 'TotRmsAbvGrd']\n",
    "X = home_data[feature_columns]\n",
    "\n",
    "# Specify Model\n",
    "iowa_model = DecisionTreeRegressor()\n",
    "# Fit Model\n",
    "iowa_model.fit(X, y)\n",
    "\n",
    "print(\"First in-sample predictions:\", iowa_model.predict(X.head()))\n",
    "print(\"Actual target values for those homes:\", y.head().tolist())\n",
    "\n",
    "# Set up code checking\n",
    "from learntools.core import binder\n",
    "binder.bind(globals())\n",
    "from learntools.machine_learning.ex4 import *\n",
    "print(\"Setup Complete\")"
   ]
  },
  {
   "cell_type": "markdown",
   "id": "e76c91d2",
   "metadata": {
    "papermill": {
     "duration": 0.004254,
     "end_time": "2024-10-28T21:50:38.468120",
     "exception": false,
     "start_time": "2024-10-28T21:50:38.463866",
     "status": "completed"
    },
    "tags": []
   },
   "source": [
    "# Exercises\n",
    "\n",
    "## Step 1: Split Your Data\n",
    "Use the `train_test_split` function to split up your data.\n",
    "\n",
    "Give it the argument `random_state=1` so the `check` functions know what to expect when verifying your code.\n",
    "\n",
    "Recall, your features are loaded in the DataFrame **X** and your target is loaded in **y**.\n"
   ]
  },
  {
   "cell_type": "code",
   "execution_count": 2,
   "id": "4dd1f25b",
   "metadata": {
    "execution": {
     "iopub.execute_input": "2024-10-28T21:50:38.479332Z",
     "iopub.status.busy": "2024-10-28T21:50:38.478348Z",
     "iopub.status.idle": "2024-10-28T21:50:38.497009Z",
     "shell.execute_reply": "2024-10-28T21:50:38.495766Z"
    },
    "papermill": {
     "duration": 0.027012,
     "end_time": "2024-10-28T21:50:38.499590",
     "exception": false,
     "start_time": "2024-10-28T21:50:38.472578",
     "status": "completed"
    },
    "tags": []
   },
   "outputs": [
    {
     "data": {
      "application/javascript": [
       "parent.postMessage({\"jupyterEvent\": \"custom.exercise_interaction\", \"data\": {\"outcomeType\": 1, \"valueTowardsCompletion\": 0.25, \"interactionType\": 1, \"questionType\": 2, \"questionId\": \"1_SplitData\", \"learnToolsVersion\": \"0.3.4\", \"failureMessage\": \"\", \"exceptionClass\": \"\", \"trace\": \"\"}}, \"*\")"
      ],
      "text/plain": [
       "<IPython.core.display.Javascript object>"
      ]
     },
     "metadata": {},
     "output_type": "display_data"
    },
    {
     "data": {
      "text/markdown": [
       "<span style=\"color:#33cc33\">Correct</span>"
      ],
      "text/plain": [
       "Correct"
      ]
     },
     "metadata": {},
     "output_type": "display_data"
    }
   ],
   "source": [
    "# Import the train_test_split function and uncomment\n",
    "from sklearn.model_selection import train_test_split\n",
    "\n",
    "# fill in and uncomment\n",
    "train_X, val_X, train_y, val_y = train_test_split(X, y, random_state = 1)\n",
    "\n",
    "# Check your answer\n",
    "step_1.check()"
   ]
  },
  {
   "cell_type": "code",
   "execution_count": 3,
   "id": "cbc734c4",
   "metadata": {
    "execution": {
     "iopub.execute_input": "2024-10-28T21:50:38.511320Z",
     "iopub.status.busy": "2024-10-28T21:50:38.510896Z",
     "iopub.status.idle": "2024-10-28T21:50:38.516483Z",
     "shell.execute_reply": "2024-10-28T21:50:38.515075Z"
    },
    "papermill": {
     "duration": 0.01465,
     "end_time": "2024-10-28T21:50:38.519236",
     "exception": false,
     "start_time": "2024-10-28T21:50:38.504586",
     "status": "completed"
    },
    "tags": []
   },
   "outputs": [],
   "source": [
    "# The lines below will show you a hint or the solution.\n",
    "# step_1.hint() \n",
    "# step_1.solution()\n"
   ]
  },
  {
   "cell_type": "markdown",
   "id": "2348f173",
   "metadata": {
    "papermill": {
     "duration": 0.004758,
     "end_time": "2024-10-28T21:50:38.529898",
     "exception": false,
     "start_time": "2024-10-28T21:50:38.525140",
     "status": "completed"
    },
    "tags": []
   },
   "source": [
    "## Step 2: Specify and Fit the Model\n",
    "\n",
    "Create a `DecisionTreeRegressor` model and fit it to the relevant data.\n",
    "Set `random_state` to 1 again when creating the model."
   ]
  },
  {
   "cell_type": "code",
   "execution_count": 4,
   "id": "97f96a51",
   "metadata": {
    "execution": {
     "iopub.execute_input": "2024-10-28T21:50:38.542729Z",
     "iopub.status.busy": "2024-10-28T21:50:38.542211Z",
     "iopub.status.idle": "2024-10-28T21:50:38.571770Z",
     "shell.execute_reply": "2024-10-28T21:50:38.570469Z"
    },
    "papermill": {
     "duration": 0.039528,
     "end_time": "2024-10-28T21:50:38.574446",
     "exception": false,
     "start_time": "2024-10-28T21:50:38.534918",
     "status": "completed"
    },
    "tags": []
   },
   "outputs": [
    {
     "name": "stdout",
     "output_type": "stream",
     "text": [
      "[186500. 184000. 130000.  92000. 164500. 220000. 335000. 144152. 215000.\n",
      " 262000.]\n",
      "[186500. 184000. 130000.  92000. 164500. 220000. 335000. 144152. 215000.\n",
      " 262000.]\n"
     ]
    },
    {
     "data": {
      "application/javascript": [
       "parent.postMessage({\"jupyterEvent\": \"custom.exercise_interaction\", \"data\": {\"outcomeType\": 1, \"valueTowardsCompletion\": 0.25, \"interactionType\": 1, \"questionType\": 2, \"questionId\": \"2_FitModelWithTrain\", \"learnToolsVersion\": \"0.3.4\", \"failureMessage\": \"\", \"exceptionClass\": \"\", \"trace\": \"\"}}, \"*\")"
      ],
      "text/plain": [
       "<IPython.core.display.Javascript object>"
      ]
     },
     "metadata": {},
     "output_type": "display_data"
    },
    {
     "data": {
      "text/markdown": [
       "<span style=\"color:#33cc33\">Correct</span>"
      ],
      "text/plain": [
       "Correct"
      ]
     },
     "metadata": {},
     "output_type": "display_data"
    }
   ],
   "source": [
    "# You imported DecisionTreeRegressor in your last exercise\n",
    "# and that code has been copied to the setup code above. So, no need to\n",
    "# import it again\n",
    "\n",
    "# Specify the model\n",
    "iowa_model = DecisionTreeRegressor(random_state = 1)\n",
    "\n",
    "# Fit iowa_model with the training data.\n",
    "iowa_model.fit(train_X, train_y)\n",
    "\n",
    "# Check your answer\n",
    "step_2.check()"
   ]
  },
  {
   "cell_type": "code",
   "execution_count": 5,
   "id": "57a53248",
   "metadata": {
    "execution": {
     "iopub.execute_input": "2024-10-28T21:50:38.586513Z",
     "iopub.status.busy": "2024-10-28T21:50:38.586088Z",
     "iopub.status.idle": "2024-10-28T21:50:38.590736Z",
     "shell.execute_reply": "2024-10-28T21:50:38.589661Z"
    },
    "papermill": {
     "duration": 0.013278,
     "end_time": "2024-10-28T21:50:38.593014",
     "exception": false,
     "start_time": "2024-10-28T21:50:38.579736",
     "status": "completed"
    },
    "tags": []
   },
   "outputs": [],
   "source": [
    "# step_2.hint()\n",
    "# step_2.solution()"
   ]
  },
  {
   "cell_type": "markdown",
   "id": "37e781ce",
   "metadata": {
    "papermill": {
     "duration": 0.0051,
     "end_time": "2024-10-28T21:50:38.603654",
     "exception": false,
     "start_time": "2024-10-28T21:50:38.598554",
     "status": "completed"
    },
    "tags": []
   },
   "source": [
    "## Step 3: Make Predictions with Validation data\n"
   ]
  },
  {
   "cell_type": "code",
   "execution_count": 6,
   "id": "64bf4a61",
   "metadata": {
    "execution": {
     "iopub.execute_input": "2024-10-28T21:50:38.615741Z",
     "iopub.status.busy": "2024-10-28T21:50:38.615276Z",
     "iopub.status.idle": "2024-10-28T21:50:38.629465Z",
     "shell.execute_reply": "2024-10-28T21:50:38.628272Z"
    },
    "papermill": {
     "duration": 0.023184,
     "end_time": "2024-10-28T21:50:38.631944",
     "exception": false,
     "start_time": "2024-10-28T21:50:38.608760",
     "status": "completed"
    },
    "tags": []
   },
   "outputs": [
    {
     "data": {
      "application/javascript": [
       "parent.postMessage({\"jupyterEvent\": \"custom.exercise_interaction\", \"data\": {\"outcomeType\": 1, \"valueTowardsCompletion\": 0.25, \"interactionType\": 1, \"questionType\": 2, \"questionId\": \"3_ValPreds\", \"learnToolsVersion\": \"0.3.4\", \"failureMessage\": \"\", \"exceptionClass\": \"\", \"trace\": \"\"}}, \"*\")"
      ],
      "text/plain": [
       "<IPython.core.display.Javascript object>"
      ]
     },
     "metadata": {},
     "output_type": "display_data"
    },
    {
     "data": {
      "text/markdown": [
       "<span style=\"color:#33cc33\">Correct</span>"
      ],
      "text/plain": [
       "Correct"
      ]
     },
     "metadata": {},
     "output_type": "display_data"
    }
   ],
   "source": [
    "# Predict with all validation observations\n",
    "val_predictions = iowa_model.predict(val_X)\n",
    "\n",
    "# Check your answer\n",
    "step_3.check()"
   ]
  },
  {
   "cell_type": "code",
   "execution_count": 7,
   "id": "098b8f92",
   "metadata": {
    "execution": {
     "iopub.execute_input": "2024-10-28T21:50:38.645289Z",
     "iopub.status.busy": "2024-10-28T21:50:38.644842Z",
     "iopub.status.idle": "2024-10-28T21:50:38.650210Z",
     "shell.execute_reply": "2024-10-28T21:50:38.649029Z"
    },
    "papermill": {
     "duration": 0.015411,
     "end_time": "2024-10-28T21:50:38.652853",
     "exception": false,
     "start_time": "2024-10-28T21:50:38.637442",
     "status": "completed"
    },
    "tags": []
   },
   "outputs": [],
   "source": [
    "# step_3.hint()\n",
    "# step_3.solution()"
   ]
  },
  {
   "cell_type": "markdown",
   "id": "1a7d0e96",
   "metadata": {
    "papermill": {
     "duration": 0.005589,
     "end_time": "2024-10-28T21:50:38.664579",
     "exception": false,
     "start_time": "2024-10-28T21:50:38.658990",
     "status": "completed"
    },
    "tags": []
   },
   "source": [
    "Inspect your predictions and actual values from validation data."
   ]
  },
  {
   "cell_type": "code",
   "execution_count": 8,
   "id": "9dc58b2e",
   "metadata": {
    "execution": {
     "iopub.execute_input": "2024-10-28T21:50:38.677585Z",
     "iopub.status.busy": "2024-10-28T21:50:38.677011Z",
     "iopub.status.idle": "2024-10-28T21:50:38.684451Z",
     "shell.execute_reply": "2024-10-28T21:50:38.683320Z"
    },
    "papermill": {
     "duration": 0.016647,
     "end_time": "2024-10-28T21:50:38.686799",
     "exception": false,
     "start_time": "2024-10-28T21:50:38.670152",
     "status": "completed"
    },
    "tags": []
   },
   "outputs": [
    {
     "name": "stdout",
     "output_type": "stream",
     "text": [
      "[186500. 184000. 130000.  92000. 164500.]\n",
      "258     231500\n",
      "267     179500\n",
      "288     122000\n",
      "649      84500\n",
      "1233    142000\n",
      "Name: SalePrice, dtype: int64\n"
     ]
    }
   ],
   "source": [
    "# print the top few validation predictions\n",
    "print(val_predictions[:5])\n",
    "# print the top few actual prices from validation data\n",
    "print(val_y[:5])"
   ]
  },
  {
   "cell_type": "markdown",
   "id": "6824b9bf",
   "metadata": {
    "papermill": {
     "duration": 0.00524,
     "end_time": "2024-10-28T21:50:38.697662",
     "exception": false,
     "start_time": "2024-10-28T21:50:38.692422",
     "status": "completed"
    },
    "tags": []
   },
   "source": [
    "What do you notice that is different from what you saw with in-sample predictions (which are printed after the top code cell in this page).\n",
    "\n",
    "Do you remember why validation predictions differ from in-sample (or training) predictions? This is an important idea from the last lesson.\n",
    "\n",
    "## Step 4: Calculate the Mean Absolute Error in Validation Data\n"
   ]
  },
  {
   "cell_type": "code",
   "execution_count": 9,
   "id": "9684c8a5",
   "metadata": {
    "execution": {
     "iopub.execute_input": "2024-10-28T21:50:38.710823Z",
     "iopub.status.busy": "2024-10-28T21:50:38.710380Z",
     "iopub.status.idle": "2024-10-28T21:50:38.722539Z",
     "shell.execute_reply": "2024-10-28T21:50:38.721296Z"
    },
    "papermill": {
     "duration": 0.022576,
     "end_time": "2024-10-28T21:50:38.725689",
     "exception": false,
     "start_time": "2024-10-28T21:50:38.703113",
     "status": "completed"
    },
    "tags": []
   },
   "outputs": [
    {
     "name": "stdout",
     "output_type": "stream",
     "text": [
      "29652.931506849316\n"
     ]
    },
    {
     "data": {
      "application/javascript": [
       "parent.postMessage({\"jupyterEvent\": \"custom.exercise_interaction\", \"data\": {\"outcomeType\": 1, \"valueTowardsCompletion\": 0.25, \"interactionType\": 1, \"questionType\": 1, \"questionId\": \"4_MAE\", \"learnToolsVersion\": \"0.3.4\", \"failureMessage\": \"\", \"exceptionClass\": \"\", \"trace\": \"\"}}, \"*\")"
      ],
      "text/plain": [
       "<IPython.core.display.Javascript object>"
      ]
     },
     "metadata": {},
     "output_type": "display_data"
    },
    {
     "data": {
      "text/markdown": [
       "<span style=\"color:#33cc33\">Correct</span>"
      ],
      "text/plain": [
       "Correct"
      ]
     },
     "metadata": {},
     "output_type": "display_data"
    }
   ],
   "source": [
    "from sklearn.metrics import mean_absolute_error\n",
    "val_mae = mean_absolute_error(val_predictions, val_y)\n",
    "\n",
    "# uncomment following line to see the validation_mae\n",
    "print(val_mae)\n",
    "\n",
    "# Check your answer\n",
    "step_4.check()"
   ]
  },
  {
   "cell_type": "code",
   "execution_count": 10,
   "id": "d97cf532",
   "metadata": {
    "execution": {
     "iopub.execute_input": "2024-10-28T21:50:38.739451Z",
     "iopub.status.busy": "2024-10-28T21:50:38.739040Z",
     "iopub.status.idle": "2024-10-28T21:50:38.744008Z",
     "shell.execute_reply": "2024-10-28T21:50:38.742622Z"
    },
    "papermill": {
     "duration": 0.014627,
     "end_time": "2024-10-28T21:50:38.746470",
     "exception": false,
     "start_time": "2024-10-28T21:50:38.731843",
     "status": "completed"
    },
    "tags": []
   },
   "outputs": [],
   "source": [
    "# step_4.hint()\n",
    "# step_4.solution()"
   ]
  },
  {
   "cell_type": "markdown",
   "id": "dce95839",
   "metadata": {
    "papermill": {
     "duration": 0.005544,
     "end_time": "2024-10-28T21:50:38.758016",
     "exception": false,
     "start_time": "2024-10-28T21:50:38.752472",
     "status": "completed"
    },
    "tags": []
   },
   "source": [
    "Is that MAE good?  There isn't a general rule for what values are good that applies across applications. But you'll see how to use (and improve) this number in the next step.\n",
    "\n",
    "# Keep Going\n",
    "\n",
    "You are ready for **[Underfitting and Overfitting](https://www.kaggle.com/dansbecker/underfitting-and-overfitting).**\n"
   ]
  },
  {
   "cell_type": "markdown",
   "id": "2029fc94",
   "metadata": {
    "papermill": {
     "duration": 0.005626,
     "end_time": "2024-10-28T21:50:38.769474",
     "exception": false,
     "start_time": "2024-10-28T21:50:38.763848",
     "status": "completed"
    },
    "tags": []
   },
   "source": [
    "---\n",
    "\n",
    "\n",
    "\n",
    "\n",
    "*Have questions or comments? Visit the [course discussion forum](https://www.kaggle.com/learn/intro-to-machine-learning/discussion) to chat with other learners.*"
   ]
  }
 ],
 "metadata": {
  "kaggle": {
   "accelerator": "none",
   "dataSources": [
    {
     "databundleVersionId": 111096,
     "sourceId": 10211,
     "sourceType": "competition"
    },
    {
     "datasetId": 11167,
     "sourceId": 15520,
     "sourceType": "datasetVersion"
    },
    {
     "datasetId": 2709,
     "sourceId": 38454,
     "sourceType": "datasetVersion"
    }
   ],
   "isGpuEnabled": false,
   "isInternetEnabled": false,
   "language": "python",
   "sourceType": "notebook"
  },
  "kernelspec": {
   "display_name": "Python 3",
   "language": "python",
   "name": "python3"
  },
  "language_info": {
   "codemirror_mode": {
    "name": "ipython",
    "version": 3
   },
   "file_extension": ".py",
   "mimetype": "text/x-python",
   "name": "python",
   "nbconvert_exporter": "python",
   "pygments_lexer": "ipython3",
   "version": "3.10.14"
  },
  "papermill": {
   "default_parameters": {},
   "duration": 7.335383,
   "end_time": "2024-10-28T21:50:39.498686",
   "environment_variables": {},
   "exception": null,
   "input_path": "__notebook__.ipynb",
   "output_path": "__notebook__.ipynb",
   "parameters": {},
   "start_time": "2024-10-28T21:50:32.163303",
   "version": "2.6.0"
  }
 },
 "nbformat": 4,
 "nbformat_minor": 5
}
