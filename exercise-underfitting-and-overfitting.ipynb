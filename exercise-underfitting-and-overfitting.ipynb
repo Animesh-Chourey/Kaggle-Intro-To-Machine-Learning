{
 "cells": [
  {
   "cell_type": "markdown",
   "id": "6d1b19ac",
   "metadata": {
    "papermill": {
     "duration": 0.005647,
     "end_time": "2024-10-30T20:02:26.980127",
     "exception": false,
     "start_time": "2024-10-30T20:02:26.974480",
     "status": "completed"
    },
    "tags": []
   },
   "source": [
    "**This notebook is an exercise in the [Introduction to Machine Learning](https://www.kaggle.com/learn/intro-to-machine-learning) course.  You can reference the tutorial at [this link](https://www.kaggle.com/dansbecker/underfitting-and-overfitting).**\n",
    "\n",
    "---\n"
   ]
  },
  {
   "cell_type": "markdown",
   "id": "a1440be7",
   "metadata": {
    "papermill": {
     "duration": 0.004434,
     "end_time": "2024-10-30T20:02:26.989754",
     "exception": false,
     "start_time": "2024-10-30T20:02:26.985320",
     "status": "completed"
    },
    "tags": []
   },
   "source": [
    "## Recap\n",
    "You've built your first model, and now it's time to optimize the size of the tree to make better predictions. Run this cell to set up your coding environment where the previous step left off."
   ]
  },
  {
   "cell_type": "code",
   "execution_count": 1,
   "id": "d5577a47",
   "metadata": {
    "execution": {
     "iopub.execute_input": "2024-10-30T20:02:27.002252Z",
     "iopub.status.busy": "2024-10-30T20:02:27.001648Z",
     "iopub.status.idle": "2024-10-30T20:02:29.903023Z",
     "shell.execute_reply": "2024-10-30T20:02:29.901382Z"
    },
    "papermill": {
     "duration": 2.910775,
     "end_time": "2024-10-30T20:02:29.905807",
     "exception": false,
     "start_time": "2024-10-30T20:02:26.995032",
     "status": "completed"
    },
    "tags": []
   },
   "outputs": [
    {
     "name": "stdout",
     "output_type": "stream",
     "text": [
      "Validation MAE: 29,653\n",
      "\n",
      "Setup complete\n"
     ]
    }
   ],
   "source": [
    "# Code you have previously used to load data\n",
    "import pandas as pd\n",
    "from sklearn.metrics import mean_absolute_error\n",
    "from sklearn.model_selection import train_test_split\n",
    "from sklearn.tree import DecisionTreeRegressor\n",
    "\n",
    "\n",
    "# Path of the file to read\n",
    "iowa_file_path = '../input/home-data-for-ml-course/train.csv'\n",
    "\n",
    "home_data = pd.read_csv(iowa_file_path)\n",
    "# Create target object and call it y\n",
    "y = home_data.SalePrice\n",
    "# Create X\n",
    "features = ['LotArea', 'YearBuilt', '1stFlrSF', '2ndFlrSF', 'FullBath', 'BedroomAbvGr', 'TotRmsAbvGrd']\n",
    "X = home_data[features]\n",
    "\n",
    "# Split into validation and training data\n",
    "train_X, val_X, train_y, val_y = train_test_split(X, y, random_state=1)\n",
    "\n",
    "# Specify Model\n",
    "iowa_model = DecisionTreeRegressor(random_state=1)\n",
    "# Fit Model\n",
    "iowa_model.fit(train_X, train_y)\n",
    "\n",
    "# Make validation predictions and calculate mean absolute error\n",
    "val_predictions = iowa_model.predict(val_X)\n",
    "val_mae = mean_absolute_error(val_predictions, val_y)\n",
    "print(\"Validation MAE: {:,.0f}\".format(val_mae))\n",
    "\n",
    "# Set up code checking\n",
    "from learntools.core import binder\n",
    "binder.bind(globals())\n",
    "from learntools.machine_learning.ex5 import *\n",
    "print(\"\\nSetup complete\")"
   ]
  },
  {
   "cell_type": "markdown",
   "id": "2f09c2ff",
   "metadata": {
    "papermill": {
     "duration": 0.00461,
     "end_time": "2024-10-30T20:02:29.915259",
     "exception": false,
     "start_time": "2024-10-30T20:02:29.910649",
     "status": "completed"
    },
    "tags": []
   },
   "source": [
    "# Exercises\n",
    "You could write the function `get_mae` yourself. For now, we'll supply it. This is the same function you read about in the previous lesson. Just run the cell below."
   ]
  },
  {
   "cell_type": "code",
   "execution_count": 2,
   "id": "f6830f70",
   "metadata": {
    "execution": {
     "iopub.execute_input": "2024-10-30T20:02:29.927747Z",
     "iopub.status.busy": "2024-10-30T20:02:29.927161Z",
     "iopub.status.idle": "2024-10-30T20:02:29.934235Z",
     "shell.execute_reply": "2024-10-30T20:02:29.933019Z"
    },
    "papermill": {
     "duration": 0.01648,
     "end_time": "2024-10-30T20:02:29.936941",
     "exception": false,
     "start_time": "2024-10-30T20:02:29.920461",
     "status": "completed"
    },
    "tags": []
   },
   "outputs": [],
   "source": [
    "def get_mae(max_leaf_nodes, train_X, val_X, train_y, val_y):\n",
    "    model = DecisionTreeRegressor(max_leaf_nodes=max_leaf_nodes, random_state=0)\n",
    "    model.fit(train_X, train_y)\n",
    "    preds_val = model.predict(val_X)\n",
    "    mae = mean_absolute_error(val_y, preds_val)\n",
    "    return(mae)"
   ]
  },
  {
   "cell_type": "markdown",
   "id": "d4ec9091",
   "metadata": {
    "papermill": {
     "duration": 0.004502,
     "end_time": "2024-10-30T20:02:29.946497",
     "exception": false,
     "start_time": "2024-10-30T20:02:29.941995",
     "status": "completed"
    },
    "tags": []
   },
   "source": [
    "## Step 1: Compare Different Tree Sizes\n",
    "Write a loop that tries the following values for *max_leaf_nodes* from a set of possible values.\n",
    "\n",
    "Call the *get_mae* function on each value of max_leaf_nodes. Store the output in some way that allows you to select the value of `max_leaf_nodes` that gives the most accurate model on your data."
   ]
  },
  {
   "cell_type": "code",
   "execution_count": 3,
   "id": "d69f7291",
   "metadata": {
    "execution": {
     "iopub.execute_input": "2024-10-30T20:02:29.957761Z",
     "iopub.status.busy": "2024-10-30T20:02:29.957257Z",
     "iopub.status.idle": "2024-10-30T20:02:30.018763Z",
     "shell.execute_reply": "2024-10-30T20:02:30.017580Z"
    },
    "papermill": {
     "duration": 0.070439,
     "end_time": "2024-10-30T20:02:30.021690",
     "exception": false,
     "start_time": "2024-10-30T20:02:29.951251",
     "status": "completed"
    },
    "tags": []
   },
   "outputs": [
    {
     "data": {
      "application/javascript": [
       "parent.postMessage({\"jupyterEvent\": \"custom.exercise_interaction\", \"data\": {\"outcomeType\": 1, \"valueTowardsCompletion\": 0.5, \"interactionType\": 1, \"questionType\": 1, \"questionId\": \"1_BestTreeSize\", \"learnToolsVersion\": \"0.3.4\", \"failureMessage\": \"\", \"exceptionClass\": \"\", \"trace\": \"\"}}, \"*\")"
      ],
      "text/plain": [
       "<IPython.core.display.Javascript object>"
      ]
     },
     "metadata": {},
     "output_type": "display_data"
    },
    {
     "data": {
      "text/markdown": [
       "<span style=\"color:#33cc33\">Correct</span>"
      ],
      "text/plain": [
       "Correct"
      ]
     },
     "metadata": {},
     "output_type": "display_data"
    }
   ],
   "source": [
    "candidate_max_leaf_nodes = [5, 25, 50, 100, 250, 500]\n",
    "# Write loop to find the ideal tree size from candidate_max_leaf_nodes\n",
    "mae_per_node = [get_mae(max_leaf_node, train_X, val_X, train_y, val_y) for max_leaf_node in candidate_max_leaf_nodes]\n",
    "\n",
    "# Store the best value of max_leaf_nodes (it will be either 5, 25, 50, 100, 250 or 500)\n",
    "best_tree_size = candidate_max_leaf_nodes[mae_per_node.index(min(mae_per_node))]\n",
    "\n",
    "# Check your answer\n",
    "step_1.check()"
   ]
  },
  {
   "cell_type": "code",
   "execution_count": 4,
   "id": "7b1478f0",
   "metadata": {
    "execution": {
     "iopub.execute_input": "2024-10-30T20:02:30.033646Z",
     "iopub.status.busy": "2024-10-30T20:02:30.033201Z",
     "iopub.status.idle": "2024-10-30T20:02:30.038288Z",
     "shell.execute_reply": "2024-10-30T20:02:30.036963Z"
    },
    "papermill": {
     "duration": 0.01413,
     "end_time": "2024-10-30T20:02:30.040885",
     "exception": false,
     "start_time": "2024-10-30T20:02:30.026755",
     "status": "completed"
    },
    "tags": []
   },
   "outputs": [],
   "source": [
    "# The lines below will show you a hint or the solution.\n",
    "# step_1.hint() \n",
    "# step_1.solution()"
   ]
  },
  {
   "cell_type": "markdown",
   "id": "8b0cb10b",
   "metadata": {
    "papermill": {
     "duration": 0.005046,
     "end_time": "2024-10-30T20:02:30.051309",
     "exception": false,
     "start_time": "2024-10-30T20:02:30.046263",
     "status": "completed"
    },
    "tags": []
   },
   "source": [
    "## Step 2: Fit Model Using All Data\n",
    "You know the best tree size. If you were going to deploy this model in practice, you would make it even more accurate by using all of the data and keeping that tree size.  That is, you don't need to hold out the validation data now that you've made all your modeling decisions."
   ]
  },
  {
   "cell_type": "code",
   "execution_count": 5,
   "id": "272f7625",
   "metadata": {
    "execution": {
     "iopub.execute_input": "2024-10-30T20:02:30.063561Z",
     "iopub.status.busy": "2024-10-30T20:02:30.063115Z",
     "iopub.status.idle": "2024-10-30T20:02:30.082315Z",
     "shell.execute_reply": "2024-10-30T20:02:30.081045Z"
    },
    "papermill": {
     "duration": 0.028419,
     "end_time": "2024-10-30T20:02:30.084979",
     "exception": false,
     "start_time": "2024-10-30T20:02:30.056560",
     "status": "completed"
    },
    "tags": []
   },
   "outputs": [
    {
     "data": {
      "application/javascript": [
       "parent.postMessage({\"jupyterEvent\": \"custom.exercise_interaction\", \"data\": {\"outcomeType\": 1, \"valueTowardsCompletion\": 0.5, \"interactionType\": 1, \"questionType\": 2, \"questionId\": \"2_FitModelWithAllData\", \"learnToolsVersion\": \"0.3.4\", \"failureMessage\": \"\", \"exceptionClass\": \"\", \"trace\": \"\"}}, \"*\")"
      ],
      "text/plain": [
       "<IPython.core.display.Javascript object>"
      ]
     },
     "metadata": {},
     "output_type": "display_data"
    },
    {
     "data": {
      "text/markdown": [
       "<span style=\"color:#33cc33\">Correct</span>"
      ],
      "text/plain": [
       "Correct"
      ]
     },
     "metadata": {},
     "output_type": "display_data"
    }
   ],
   "source": [
    "# Fill in argument to make optimal size and uncomment\n",
    "final_model = DecisionTreeRegressor(max_leaf_nodes=best_tree_size, random_state=1)\n",
    "\n",
    "# fit the final model and uncomment the next two lines\n",
    "final_model.fit(X, y)\n",
    "\n",
    "# Check your answer\n",
    "step_2.check()"
   ]
  },
  {
   "cell_type": "code",
   "execution_count": 6,
   "id": "916bac07",
   "metadata": {
    "execution": {
     "iopub.execute_input": "2024-10-30T20:02:30.098383Z",
     "iopub.status.busy": "2024-10-30T20:02:30.097958Z",
     "iopub.status.idle": "2024-10-30T20:02:30.103235Z",
     "shell.execute_reply": "2024-10-30T20:02:30.101921Z"
    },
    "papermill": {
     "duration": 0.015369,
     "end_time": "2024-10-30T20:02:30.106058",
     "exception": false,
     "start_time": "2024-10-30T20:02:30.090689",
     "status": "completed"
    },
    "tags": []
   },
   "outputs": [],
   "source": [
    "# step_2.hint()\n",
    "# step_2.solution()"
   ]
  },
  {
   "cell_type": "markdown",
   "id": "6c240d77",
   "metadata": {
    "papermill": {
     "duration": 0.005848,
     "end_time": "2024-10-30T20:02:30.118760",
     "exception": false,
     "start_time": "2024-10-30T20:02:30.112912",
     "status": "completed"
    },
    "tags": []
   },
   "source": [
    "You've tuned this model and improved your results. But we are still using Decision Tree models, which are not very sophisticated by modern machine learning standards. In the next step you will learn to use Random Forests to improve your models even more.\n",
    "\n",
    "# Keep Going\n",
    "\n",
    "You are ready for **[Random Forests](https://www.kaggle.com/dansbecker/random-forests).**\n"
   ]
  },
  {
   "cell_type": "markdown",
   "id": "7ea33950",
   "metadata": {
    "papermill": {
     "duration": 0.00531,
     "end_time": "2024-10-30T20:02:30.129857",
     "exception": false,
     "start_time": "2024-10-30T20:02:30.124547",
     "status": "completed"
    },
    "tags": []
   },
   "source": [
    "---\n",
    "\n",
    "\n",
    "\n",
    "\n",
    "*Have questions or comments? Visit the [course discussion forum](https://www.kaggle.com/learn/intro-to-machine-learning/discussion) to chat with other learners.*"
   ]
  }
 ],
 "metadata": {
  "kaggle": {
   "accelerator": "none",
   "dataSources": [
    {
     "databundleVersionId": 111096,
     "sourceId": 10211,
     "sourceType": "competition"
    },
    {
     "datasetId": 11167,
     "sourceId": 15520,
     "sourceType": "datasetVersion"
    },
    {
     "datasetId": 2709,
     "sourceId": 38454,
     "sourceType": "datasetVersion"
    }
   ],
   "isGpuEnabled": false,
   "isInternetEnabled": false,
   "language": "python",
   "sourceType": "notebook"
  },
  "kernelspec": {
   "display_name": "Python 3",
   "language": "python",
   "name": "python3"
  },
  "language_info": {
   "codemirror_mode": {
    "name": "ipython",
    "version": 3
   },
   "file_extension": ".py",
   "mimetype": "text/x-python",
   "name": "python",
   "nbconvert_exporter": "python",
   "pygments_lexer": "ipython3",
   "version": "3.10.14"
  },
  "papermill": {
   "default_parameters": {},
   "duration": 6.977584,
   "end_time": "2024-10-30T20:02:30.757552",
   "environment_variables": {},
   "exception": null,
   "input_path": "__notebook__.ipynb",
   "output_path": "__notebook__.ipynb",
   "parameters": {},
   "start_time": "2024-10-30T20:02:23.779968",
   "version": "2.6.0"
  }
 },
 "nbformat": 4,
 "nbformat_minor": 5
}
