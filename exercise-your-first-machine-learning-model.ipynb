{
 "cells": [
  {
   "cell_type": "markdown",
   "id": "c0bf82d6",
   "metadata": {
    "papermill": {
     "duration": 0.005271,
     "end_time": "2024-10-28T16:23:02.585968",
     "exception": false,
     "start_time": "2024-10-28T16:23:02.580697",
     "status": "completed"
    },
    "tags": []
   },
   "source": [
    "**This notebook is an exercise in the [Introduction to Machine Learning](https://www.kaggle.com/learn/intro-to-machine-learning) course.  You can reference the tutorial at [this link](https://www.kaggle.com/dansbecker/your-first-machine-learning-model).**\n",
    "\n",
    "---\n"
   ]
  },
  {
   "cell_type": "markdown",
   "id": "286b3900",
   "metadata": {
    "papermill": {
     "duration": 0.004358,
     "end_time": "2024-10-28T16:23:02.595548",
     "exception": false,
     "start_time": "2024-10-28T16:23:02.591190",
     "status": "completed"
    },
    "tags": []
   },
   "source": [
    "## Recap\n",
    "So far, you have loaded your data and reviewed it with the following code. Run this cell to set up your coding environment where the previous step left off."
   ]
  },
  {
   "cell_type": "code",
   "execution_count": 1,
   "id": "a1d1ec82",
   "metadata": {
    "execution": {
     "iopub.execute_input": "2024-10-28T16:23:02.606092Z",
     "iopub.status.busy": "2024-10-28T16:23:02.605682Z",
     "iopub.status.idle": "2024-10-28T16:23:04.942033Z",
     "shell.execute_reply": "2024-10-28T16:23:04.940549Z"
    },
    "papermill": {
     "duration": 2.34459,
     "end_time": "2024-10-28T16:23:04.944661",
     "exception": false,
     "start_time": "2024-10-28T16:23:02.600071",
     "status": "completed"
    },
    "tags": []
   },
   "outputs": [
    {
     "name": "stdout",
     "output_type": "stream",
     "text": [
      "Setup Complete\n"
     ]
    }
   ],
   "source": [
    "# Code you have previously used to load data\n",
    "import pandas as pd\n",
    "\n",
    "# Path of the file to read\n",
    "iowa_file_path = '../input/home-data-for-ml-course/train.csv'\n",
    "\n",
    "home_data = pd.read_csv(iowa_file_path)\n",
    "\n",
    "# Set up code checking\n",
    "from learntools.core import binder\n",
    "binder.bind(globals())\n",
    "from learntools.machine_learning.ex3 import *\n",
    "\n",
    "print(\"Setup Complete\")"
   ]
  },
  {
   "cell_type": "markdown",
   "id": "cd76d8cb",
   "metadata": {
    "papermill": {
     "duration": 0.004477,
     "end_time": "2024-10-28T16:23:04.954321",
     "exception": false,
     "start_time": "2024-10-28T16:23:04.949844",
     "status": "completed"
    },
    "tags": []
   },
   "source": [
    "# Exercises\n",
    "\n",
    "## Step 1: Specify Prediction Target\n",
    "Select the target variable, which corresponds to the sales price. Save this to a new variable called `y`. You'll need to print a list of the columns to find the name of the column you need.\n"
   ]
  },
  {
   "cell_type": "code",
   "execution_count": 2,
   "id": "2d04684e",
   "metadata": {
    "execution": {
     "iopub.execute_input": "2024-10-28T16:23:04.966636Z",
     "iopub.status.busy": "2024-10-28T16:23:04.966081Z",
     "iopub.status.idle": "2024-10-28T16:23:04.972351Z",
     "shell.execute_reply": "2024-10-28T16:23:04.971293Z"
    },
    "papermill": {
     "duration": 0.015242,
     "end_time": "2024-10-28T16:23:04.975135",
     "exception": false,
     "start_time": "2024-10-28T16:23:04.959893",
     "status": "completed"
    },
    "tags": []
   },
   "outputs": [
    {
     "name": "stdout",
     "output_type": "stream",
     "text": [
      "Index(['Id', 'MSSubClass', 'MSZoning', 'LotFrontage', 'LotArea', 'Street',\n",
      "       'Alley', 'LotShape', 'LandContour', 'Utilities', 'LotConfig',\n",
      "       'LandSlope', 'Neighborhood', 'Condition1', 'Condition2', 'BldgType',\n",
      "       'HouseStyle', 'OverallQual', 'OverallCond', 'YearBuilt', 'YearRemodAdd',\n",
      "       'RoofStyle', 'RoofMatl', 'Exterior1st', 'Exterior2nd', 'MasVnrType',\n",
      "       'MasVnrArea', 'ExterQual', 'ExterCond', 'Foundation', 'BsmtQual',\n",
      "       'BsmtCond', 'BsmtExposure', 'BsmtFinType1', 'BsmtFinSF1',\n",
      "       'BsmtFinType2', 'BsmtFinSF2', 'BsmtUnfSF', 'TotalBsmtSF', 'Heating',\n",
      "       'HeatingQC', 'CentralAir', 'Electrical', '1stFlrSF', '2ndFlrSF',\n",
      "       'LowQualFinSF', 'GrLivArea', 'BsmtFullBath', 'BsmtHalfBath', 'FullBath',\n",
      "       'HalfBath', 'BedroomAbvGr', 'KitchenAbvGr', 'KitchenQual',\n",
      "       'TotRmsAbvGrd', 'Functional', 'Fireplaces', 'FireplaceQu', 'GarageType',\n",
      "       'GarageYrBlt', 'GarageFinish', 'GarageCars', 'GarageArea', 'GarageQual',\n",
      "       'GarageCond', 'PavedDrive', 'WoodDeckSF', 'OpenPorchSF',\n",
      "       'EnclosedPorch', '3SsnPorch', 'ScreenPorch', 'PoolArea', 'PoolQC',\n",
      "       'Fence', 'MiscFeature', 'MiscVal', 'MoSold', 'YrSold', 'SaleType',\n",
      "       'SaleCondition', 'SalePrice'],\n",
      "      dtype='object')\n"
     ]
    }
   ],
   "source": [
    "# print the list of columns in the dataset to find the name of the prediction target\n",
    "print(home_data.columns)"
   ]
  },
  {
   "cell_type": "code",
   "execution_count": 3,
   "id": "6348d69a",
   "metadata": {
    "execution": {
     "iopub.execute_input": "2024-10-28T16:23:04.986599Z",
     "iopub.status.busy": "2024-10-28T16:23:04.986241Z",
     "iopub.status.idle": "2024-10-28T16:23:05.000464Z",
     "shell.execute_reply": "2024-10-28T16:23:04.999547Z"
    },
    "papermill": {
     "duration": 0.022734,
     "end_time": "2024-10-28T16:23:05.002952",
     "exception": false,
     "start_time": "2024-10-28T16:23:04.980218",
     "status": "completed"
    },
    "tags": []
   },
   "outputs": [
    {
     "data": {
      "application/javascript": [
       "parent.postMessage({\"jupyterEvent\": \"custom.exercise_interaction\", \"data\": {\"outcomeType\": 1, \"valueTowardsCompletion\": 0.25, \"interactionType\": 1, \"questionType\": 2, \"questionId\": \"1_SetTarget\", \"learnToolsVersion\": \"0.3.4\", \"failureMessage\": \"\", \"exceptionClass\": \"\", \"trace\": \"\"}}, \"*\")"
      ],
      "text/plain": [
       "<IPython.core.display.Javascript object>"
      ]
     },
     "metadata": {},
     "output_type": "display_data"
    },
    {
     "data": {
      "text/markdown": [
       "<span style=\"color:#33cc33\">Correct</span>"
      ],
      "text/plain": [
       "Correct"
      ]
     },
     "metadata": {},
     "output_type": "display_data"
    }
   ],
   "source": [
    "y = home_data['SalePrice']\n",
    "\n",
    "# Check your answer\n",
    "step_1.check()"
   ]
  },
  {
   "cell_type": "code",
   "execution_count": 4,
   "id": "5f8f1e3b",
   "metadata": {
    "collapsed": true,
    "execution": {
     "iopub.execute_input": "2024-10-28T16:23:05.015847Z",
     "iopub.status.busy": "2024-10-28T16:23:05.015452Z",
     "iopub.status.idle": "2024-10-28T16:23:05.020372Z",
     "shell.execute_reply": "2024-10-28T16:23:05.019335Z"
    },
    "jupyter": {
     "outputs_hidden": true
    },
    "papermill": {
     "duration": 0.013534,
     "end_time": "2024-10-28T16:23:05.022621",
     "exception": false,
     "start_time": "2024-10-28T16:23:05.009087",
     "status": "completed"
    },
    "tags": []
   },
   "outputs": [],
   "source": [
    "# The lines below will show you a hint or the solution.\n",
    "# step_1.hint() \n",
    "# step_1.solution()"
   ]
  },
  {
   "cell_type": "markdown",
   "id": "2555a8b8",
   "metadata": {
    "papermill": {
     "duration": 0.005116,
     "end_time": "2024-10-28T16:23:05.032949",
     "exception": false,
     "start_time": "2024-10-28T16:23:05.027833",
     "status": "completed"
    },
    "tags": []
   },
   "source": [
    "## Step 2: Create X\n",
    "Now you will create a DataFrame called `X` holding the predictive features.\n",
    "\n",
    "Since you want only some columns from the original data, you'll first create a list with the names of the columns you want in `X`.\n",
    "\n",
    "You'll use just the following columns in the list (you can copy and paste the whole list to save some typing, though you'll still need to add quotes):\n",
    "  * LotArea\n",
    "  * YearBuilt\n",
    "  * 1stFlrSF\n",
    "  * 2ndFlrSF\n",
    "  * FullBath\n",
    "  * BedroomAbvGr\n",
    "  * TotRmsAbvGrd\n",
    "\n",
    "After you've created that list of features, use it to create the DataFrame that you'll use to fit the model."
   ]
  },
  {
   "cell_type": "code",
   "execution_count": 5,
   "id": "16bed0ea",
   "metadata": {
    "execution": {
     "iopub.execute_input": "2024-10-28T16:23:05.044932Z",
     "iopub.status.busy": "2024-10-28T16:23:05.044511Z",
     "iopub.status.idle": "2024-10-28T16:23:05.059102Z",
     "shell.execute_reply": "2024-10-28T16:23:05.058184Z"
    },
    "papermill": {
     "duration": 0.023179,
     "end_time": "2024-10-28T16:23:05.061299",
     "exception": false,
     "start_time": "2024-10-28T16:23:05.038120",
     "status": "completed"
    },
    "tags": []
   },
   "outputs": [
    {
     "data": {
      "application/javascript": [
       "parent.postMessage({\"jupyterEvent\": \"custom.exercise_interaction\", \"data\": {\"outcomeType\": 1, \"valueTowardsCompletion\": 0.25, \"interactionType\": 1, \"questionType\": 2, \"questionId\": \"2_SelectPredictionData\", \"learnToolsVersion\": \"0.3.4\", \"failureMessage\": \"\", \"exceptionClass\": \"\", \"trace\": \"\"}}, \"*\")"
      ],
      "text/plain": [
       "<IPython.core.display.Javascript object>"
      ]
     },
     "metadata": {},
     "output_type": "display_data"
    },
    {
     "data": {
      "text/markdown": [
       "<span style=\"color:#33cc33\">Correct</span>"
      ],
      "text/plain": [
       "Correct"
      ]
     },
     "metadata": {},
     "output_type": "display_data"
    }
   ],
   "source": [
    "# Create the list of features below\n",
    "feature_names = ['LotArea', 'YearBuilt', '1stFlrSF', '2ndFlrSF', 'FullBath', 'BedroomAbvGr', 'TotRmsAbvGrd']\n",
    "\n",
    "# Select data corresponding to features in feature_names\n",
    "X = home_data[feature_names]\n",
    "\n",
    "# Check your answer\n",
    "step_2.check()"
   ]
  },
  {
   "cell_type": "code",
   "execution_count": 6,
   "id": "5cfd74d2",
   "metadata": {
    "collapsed": true,
    "execution": {
     "iopub.execute_input": "2024-10-28T16:23:05.073663Z",
     "iopub.status.busy": "2024-10-28T16:23:05.073317Z",
     "iopub.status.idle": "2024-10-28T16:23:05.077911Z",
     "shell.execute_reply": "2024-10-28T16:23:05.076837Z"
    },
    "jupyter": {
     "outputs_hidden": true
    },
    "papermill": {
     "duration": 0.013696,
     "end_time": "2024-10-28T16:23:05.080455",
     "exception": false,
     "start_time": "2024-10-28T16:23:05.066759",
     "status": "completed"
    },
    "tags": []
   },
   "outputs": [],
   "source": [
    "# step_2.hint()\n",
    "# step_2.solution()"
   ]
  },
  {
   "cell_type": "markdown",
   "id": "4fc18981",
   "metadata": {
    "papermill": {
     "duration": 0.00571,
     "end_time": "2024-10-28T16:23:05.091713",
     "exception": false,
     "start_time": "2024-10-28T16:23:05.086003",
     "status": "completed"
    },
    "tags": []
   },
   "source": [
    "## Review Data\n",
    "Before building a model, take a quick look at **X** to verify it looks sensible"
   ]
  },
  {
   "cell_type": "code",
   "execution_count": 7,
   "id": "bf95ed5a",
   "metadata": {
    "execution": {
     "iopub.execute_input": "2024-10-28T16:23:05.104111Z",
     "iopub.status.busy": "2024-10-28T16:23:05.103714Z",
     "iopub.status.idle": "2024-10-28T16:23:05.136676Z",
     "shell.execute_reply": "2024-10-28T16:23:05.135068Z"
    },
    "papermill": {
     "duration": 0.042053,
     "end_time": "2024-10-28T16:23:05.139146",
     "exception": false,
     "start_time": "2024-10-28T16:23:05.097093",
     "status": "completed"
    },
    "tags": []
   },
   "outputs": [
    {
     "name": "stdout",
     "output_type": "stream",
     "text": [
      "             LotArea    YearBuilt     1stFlrSF     2ndFlrSF     FullBath  \\\n",
      "count    1460.000000  1460.000000  1460.000000  1460.000000  1460.000000   \n",
      "mean    10516.828082  1971.267808  1162.626712   346.992466     1.565068   \n",
      "std      9981.264932    30.202904   386.587738   436.528436     0.550916   \n",
      "min      1300.000000  1872.000000   334.000000     0.000000     0.000000   \n",
      "25%      7553.500000  1954.000000   882.000000     0.000000     1.000000   \n",
      "50%      9478.500000  1973.000000  1087.000000     0.000000     2.000000   \n",
      "75%     11601.500000  2000.000000  1391.250000   728.000000     2.000000   \n",
      "max    215245.000000  2010.000000  4692.000000  2065.000000     3.000000   \n",
      "\n",
      "       BedroomAbvGr  TotRmsAbvGrd  \n",
      "count   1460.000000   1460.000000  \n",
      "mean       2.866438      6.517808  \n",
      "std        0.815778      1.625393  \n",
      "min        0.000000      2.000000  \n",
      "25%        2.000000      5.000000  \n",
      "50%        3.000000      6.000000  \n",
      "75%        3.000000      7.000000  \n",
      "max        8.000000     14.000000  \n",
      "   LotArea  YearBuilt  1stFlrSF  2ndFlrSF  FullBath  BedroomAbvGr  \\\n",
      "0     8450       2003       856       854         2             3   \n",
      "1     9600       1976      1262         0         2             3   \n",
      "2    11250       2001       920       866         2             3   \n",
      "3     9550       1915       961       756         1             3   \n",
      "4    14260       2000      1145      1053         2             4   \n",
      "\n",
      "   TotRmsAbvGrd  \n",
      "0             8  \n",
      "1             6  \n",
      "2             6  \n",
      "3             7  \n",
      "4             9  \n"
     ]
    }
   ],
   "source": [
    "# Review data\n",
    "# print description or statistics from X\n",
    "print(X.describe())\n",
    "\n",
    "# print the top few lines\n",
    "print(X.head())"
   ]
  },
  {
   "cell_type": "markdown",
   "id": "6cd5c45c",
   "metadata": {
    "papermill": {
     "duration": 0.005232,
     "end_time": "2024-10-28T16:23:05.150082",
     "exception": false,
     "start_time": "2024-10-28T16:23:05.144850",
     "status": "completed"
    },
    "tags": []
   },
   "source": [
    "## Step 3: Specify and Fit Model\n",
    "Create a `DecisionTreeRegressor` and save it iowa_model. Ensure you've done the relevant import from sklearn to run this command.\n",
    "\n",
    "Then fit the model you just created using the data in `X` and `y` that you saved above."
   ]
  },
  {
   "cell_type": "code",
   "execution_count": 8,
   "id": "cd6a2805",
   "metadata": {
    "execution": {
     "iopub.execute_input": "2024-10-28T16:23:05.163416Z",
     "iopub.status.busy": "2024-10-28T16:23:05.163042Z",
     "iopub.status.idle": "2024-10-28T16:23:05.184111Z",
     "shell.execute_reply": "2024-10-28T16:23:05.182611Z"
    },
    "papermill": {
     "duration": 0.030903,
     "end_time": "2024-10-28T16:23:05.186491",
     "exception": false,
     "start_time": "2024-10-28T16:23:05.155588",
     "status": "completed"
    },
    "tags": []
   },
   "outputs": [
    {
     "data": {
      "application/javascript": [
       "parent.postMessage({\"jupyterEvent\": \"custom.exercise_interaction\", \"data\": {\"outcomeType\": 1, \"valueTowardsCompletion\": 0.25, \"interactionType\": 1, \"questionType\": 2, \"questionId\": \"3_CreateModel\", \"learnToolsVersion\": \"0.3.4\", \"failureMessage\": \"\", \"exceptionClass\": \"\", \"trace\": \"\"}}, \"*\")"
      ],
      "text/plain": [
       "<IPython.core.display.Javascript object>"
      ]
     },
     "metadata": {},
     "output_type": "display_data"
    },
    {
     "data": {
      "text/markdown": [
       "<span style=\"color:#33cc33\">Correct</span>"
      ],
      "text/plain": [
       "Correct"
      ]
     },
     "metadata": {},
     "output_type": "display_data"
    }
   ],
   "source": [
    "from sklearn.tree import DecisionTreeRegressor\n",
    "#specify the model. \n",
    "#For model reproducibility, set a numeric value for random_state when specifying the model\n",
    "iowa_model = DecisionTreeRegressor(random_state = 42)\n",
    "\n",
    "# Fit the model\n",
    "iowa_model.fit(X, y)\n",
    "\n",
    "# Check your answer\n",
    "step_3.check()"
   ]
  },
  {
   "cell_type": "code",
   "execution_count": 9,
   "id": "047a06d8",
   "metadata": {
    "collapsed": true,
    "execution": {
     "iopub.execute_input": "2024-10-28T16:23:05.199518Z",
     "iopub.status.busy": "2024-10-28T16:23:05.199142Z",
     "iopub.status.idle": "2024-10-28T16:23:05.203809Z",
     "shell.execute_reply": "2024-10-28T16:23:05.202724Z"
    },
    "jupyter": {
     "outputs_hidden": true
    },
    "papermill": {
     "duration": 0.01387,
     "end_time": "2024-10-28T16:23:05.206210",
     "exception": false,
     "start_time": "2024-10-28T16:23:05.192340",
     "status": "completed"
    },
    "tags": []
   },
   "outputs": [],
   "source": [
    "# step_3.hint()\n",
    "# step_3.solution()"
   ]
  },
  {
   "cell_type": "markdown",
   "id": "7006ec1f",
   "metadata": {
    "papermill": {
     "duration": 0.007082,
     "end_time": "2024-10-28T16:23:05.219995",
     "exception": false,
     "start_time": "2024-10-28T16:23:05.212913",
     "status": "completed"
    },
    "tags": []
   },
   "source": [
    "## Step 4: Make Predictions\n",
    "Make predictions with the model's `predict` command using `X` as the data. Save the results to a variable called `predictions`."
   ]
  },
  {
   "cell_type": "code",
   "execution_count": 10,
   "id": "845322be",
   "metadata": {
    "execution": {
     "iopub.execute_input": "2024-10-28T16:23:05.233885Z",
     "iopub.status.busy": "2024-10-28T16:23:05.233450Z",
     "iopub.status.idle": "2024-10-28T16:23:05.246554Z",
     "shell.execute_reply": "2024-10-28T16:23:05.245405Z"
    },
    "papermill": {
     "duration": 0.022533,
     "end_time": "2024-10-28T16:23:05.248745",
     "exception": false,
     "start_time": "2024-10-28T16:23:05.226212",
     "status": "completed"
    },
    "tags": []
   },
   "outputs": [
    {
     "name": "stdout",
     "output_type": "stream",
     "text": [
      "[208500. 181500. 223500. ... 266500. 142125. 147500.]\n"
     ]
    },
    {
     "data": {
      "application/javascript": [
       "parent.postMessage({\"jupyterEvent\": \"custom.exercise_interaction\", \"data\": {\"outcomeType\": 1, \"valueTowardsCompletion\": 0.25, \"interactionType\": 1, \"questionType\": 2, \"questionId\": \"4_MakePredictions\", \"learnToolsVersion\": \"0.3.4\", \"failureMessage\": \"\", \"exceptionClass\": \"\", \"trace\": \"\"}}, \"*\")"
      ],
      "text/plain": [
       "<IPython.core.display.Javascript object>"
      ]
     },
     "metadata": {},
     "output_type": "display_data"
    },
    {
     "data": {
      "text/markdown": [
       "<span style=\"color:#33cc33\">Correct</span>"
      ],
      "text/plain": [
       "Correct"
      ]
     },
     "metadata": {},
     "output_type": "display_data"
    }
   ],
   "source": [
    "predictions = iowa_model.predict(X)\n",
    "print(predictions)\n",
    "\n",
    "# Check your answer\n",
    "step_4.check()"
   ]
  },
  {
   "cell_type": "code",
   "execution_count": 11,
   "id": "275dc180",
   "metadata": {
    "collapsed": true,
    "execution": {
     "iopub.execute_input": "2024-10-28T16:23:05.264819Z",
     "iopub.status.busy": "2024-10-28T16:23:05.264389Z",
     "iopub.status.idle": "2024-10-28T16:23:05.269852Z",
     "shell.execute_reply": "2024-10-28T16:23:05.268532Z"
    },
    "jupyter": {
     "outputs_hidden": true
    },
    "papermill": {
     "duration": 0.017143,
     "end_time": "2024-10-28T16:23:05.272229",
     "exception": false,
     "start_time": "2024-10-28T16:23:05.255086",
     "status": "completed"
    },
    "tags": []
   },
   "outputs": [],
   "source": [
    "# step_4.hint()\n",
    "# step_4.solution()"
   ]
  },
  {
   "cell_type": "markdown",
   "id": "fac4335f",
   "metadata": {
    "papermill": {
     "duration": 0.006167,
     "end_time": "2024-10-28T16:23:05.285082",
     "exception": false,
     "start_time": "2024-10-28T16:23:05.278915",
     "status": "completed"
    },
    "tags": []
   },
   "source": [
    "## Think About Your Results\n",
    "\n",
    "Use the `head` method to compare the top few predictions to the actual home values (in `y`) for those same homes. Anything surprising?\n"
   ]
  },
  {
   "cell_type": "code",
   "execution_count": 12,
   "id": "a99827a8",
   "metadata": {
    "execution": {
     "iopub.execute_input": "2024-10-28T16:23:05.299914Z",
     "iopub.status.busy": "2024-10-28T16:23:05.299518Z",
     "iopub.status.idle": "2024-10-28T16:23:05.306522Z",
     "shell.execute_reply": "2024-10-28T16:23:05.304978Z"
    },
    "papermill": {
     "duration": 0.016896,
     "end_time": "2024-10-28T16:23:05.308886",
     "exception": false,
     "start_time": "2024-10-28T16:23:05.291990",
     "status": "completed"
    },
    "tags": []
   },
   "outputs": [
    {
     "name": "stdout",
     "output_type": "stream",
     "text": [
      "Actual Prices :  0    208500\n",
      "1    181500\n",
      "2    223500\n",
      "3    140000\n",
      "4    250000\n",
      "5    143000\n",
      "6    307000\n",
      "7    200000\n",
      "8    129900\n",
      "9    118000\n",
      "Name: SalePrice, dtype: int64\n",
      "[208500. 181500. 223500. 140000. 250000. 143000. 307000. 200000. 129900.\n",
      " 118000.]\n"
     ]
    }
   ],
   "source": [
    "# You can write code in this cell\n",
    "print(\"Actual Prices : \",y.head(10))\n",
    "\n",
    "print(predictions[:10])"
   ]
  },
  {
   "cell_type": "markdown",
   "id": "8b239d59",
   "metadata": {
    "papermill": {
     "duration": 0.005972,
     "end_time": "2024-10-28T16:23:05.321877",
     "exception": false,
     "start_time": "2024-10-28T16:23:05.315905",
     "status": "completed"
    },
    "tags": []
   },
   "source": [
    "It's natural to ask how accurate the model's predictions will be and how you can improve that. That will be you're next step.\n",
    "\n",
    "# Keep Going\n",
    "\n",
    "You are ready for **[Model Validation](https://www.kaggle.com/dansbecker/model-validation).**\n"
   ]
  },
  {
   "cell_type": "markdown",
   "id": "c883afd4",
   "metadata": {
    "papermill": {
     "duration": 0.005821,
     "end_time": "2024-10-28T16:23:05.333843",
     "exception": false,
     "start_time": "2024-10-28T16:23:05.328022",
     "status": "completed"
    },
    "tags": []
   },
   "source": [
    "---\n",
    "\n",
    "\n",
    "\n",
    "\n",
    "*Have questions or comments? Visit the [course discussion forum](https://www.kaggle.com/learn/intro-to-machine-learning/discussion) to chat with other learners.*"
   ]
  }
 ],
 "metadata": {
  "kaggle": {
   "accelerator": "none",
   "dataSources": [
    {
     "databundleVersionId": 111096,
     "sourceId": 10211,
     "sourceType": "competition"
    },
    {
     "datasetId": 11167,
     "sourceId": 15520,
     "sourceType": "datasetVersion"
    },
    {
     "datasetId": 2709,
     "sourceId": 38454,
     "sourceType": "datasetVersion"
    }
   ],
   "isGpuEnabled": false,
   "isInternetEnabled": false,
   "language": "python",
   "sourceType": "notebook"
  },
  "kernelspec": {
   "display_name": "Python 3",
   "language": "python",
   "name": "python3"
  },
  "language_info": {
   "codemirror_mode": {
    "name": "ipython",
    "version": 3
   },
   "file_extension": ".py",
   "mimetype": "text/x-python",
   "name": "python",
   "nbconvert_exporter": "python",
   "pygments_lexer": "ipython3",
   "version": "3.10.14"
  },
  "papermill": {
   "default_parameters": {},
   "duration": 5.87991,
   "end_time": "2024-10-28T16:23:05.861458",
   "environment_variables": {},
   "exception": null,
   "input_path": "__notebook__.ipynb",
   "output_path": "__notebook__.ipynb",
   "parameters": {},
   "start_time": "2024-10-28T16:22:59.981548",
   "version": "2.6.0"
  }
 },
 "nbformat": 4,
 "nbformat_minor": 5
}
